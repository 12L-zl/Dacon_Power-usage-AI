{
 "cells": [
  {
   "cell_type": "code",
   "execution_count": 1,
   "id": "6e512bb3",
   "metadata": {},
   "outputs": [
    {
     "name": "stdout",
     "output_type": "stream",
     "text": [
      "Collecting lightgbm\n",
      "  Downloading lightgbm-4.3.0-py3-none-win_amd64.whl.metadata (19 kB)\n",
      "Requirement already satisfied: numpy in c:\\users\\knuyh\\anaconda3\\lib\\site-packages (from lightgbm) (1.24.3)\n",
      "Requirement already satisfied: scipy in c:\\users\\knuyh\\anaconda3\\lib\\site-packages (from lightgbm) (1.10.1)\n",
      "Downloading lightgbm-4.3.0-py3-none-win_amd64.whl (1.3 MB)\n",
      "   ---------------------------------------- 0.0/1.3 MB ? eta -:--:--\n",
      "   ------------ --------------------------- 0.4/1.3 MB 13.2 MB/s eta 0:00:01\n",
      "   --------------- ------------------------ 0.5/1.3 MB 10.9 MB/s eta 0:00:01\n",
      "   ----------------------------- ---------- 1.0/1.3 MB 7.8 MB/s eta 0:00:01\n",
      "   ---------------------------------------  1.3/1.3 MB 8.5 MB/s eta 0:00:01\n",
      "   ---------------------------------------- 1.3/1.3 MB 7.7 MB/s eta 0:00:00\n",
      "Installing collected packages: lightgbm\n",
      "Successfully installed lightgbm-4.3.0\n",
      "Note: you may need to restart the kernel to use updated packages.\n"
     ]
    }
   ],
   "source": [
    "pip install lightgbm"
   ]
  },
  {
   "cell_type": "code",
   "execution_count": 18,
   "id": "7354ad20",
   "metadata": {},
   "outputs": [],
   "source": [
    "import pandas as pd\n",
    "import matplotlib.pyplot as plt\n",
    "import seaborn as sns\n",
    "\n",
    "import random\n",
    "import numpy as np\n",
    "import os\n",
    "from tqdm import tqdm\n",
    "import lightgbm as lgb"
   ]
  },
  {
   "cell_type": "code",
   "execution_count": 3,
   "id": "a68539b6",
   "metadata": {},
   "outputs": [],
   "source": [
    "train_df = pd.read_csv('./Data/train.csv')\n",
    "building_info = pd.read_csv('./Data/building_info.csv')\n",
    "test_df = pd.read_csv('./Data/test.csv')"
   ]
  },
  {
   "cell_type": "code",
   "execution_count": 4,
   "id": "12ae86bc",
   "metadata": {},
   "outputs": [],
   "source": [
    "def seed_everything(seed):\n",
    "    random.seed(seed)\n",
    "    os.environ['PYTHONHASHSEED'] = str(seed)\n",
    "    np.random.seed(seed)\n",
    "\n",
    "seed_everything(42) # Seed 고정"
   ]
  },
  {
   "cell_type": "code",
   "execution_count": 5,
   "id": "1f3919aa",
   "metadata": {},
   "outputs": [],
   "source": [
    "train_df = train_df.fillna(0)"
   ]
  },
  {
   "cell_type": "code",
   "execution_count": 6,
   "id": "d4a5902f",
   "metadata": {},
   "outputs": [],
   "source": [
    "# 파생변수 THI, CDH\n",
    "train_df['THI'] = 9/5*train_df['기온(C)'] - 0.55*(1-train_df['습도(%)']/100)*(9/5*train_df['습도(%)']-26)+32\n",
    "\n",
    "def CDH(xs):\n",
    "    ys = []\n",
    "    for i in range(len(xs)):\n",
    "        if i < 11:\n",
    "            ys.append(np.sum(xs[:(i+1)]-26))\n",
    "        else:\n",
    "            ys.append(np.sum(xs[(i-11):(i+1)]-26))\n",
    "    return np.array(ys)\n",
    "\n",
    "cdhs = np.array([])\n",
    "\n",
    "for num in range(1,101,1):\n",
    "    temp = train_df[train_df['건물번호'] == num]\n",
    "    cdh = CDH(temp['기온(C)'].values)\n",
    "    cdhs = np.concatenate([cdhs, cdh])\n",
    "    \n",
    "train_df['CDH'] = cdhs"
   ]
  },
  {
   "cell_type": "code",
   "execution_count": 7,
   "id": "baa29d4b",
   "metadata": {},
   "outputs": [],
   "source": [
    "# Weekday 변수 추가\n",
    "import datetime\n",
    "\n",
    "def to_datetime(s):\n",
    "    \"\"\"\n",
    "    Args:\n",
    "        s: ex) '20220601 01'\n",
    "    Returns:\n",
    "        weekday: 0~6(int), 0: 월요일, 1: 화요일, ...\n",
    "    \"\"\"\n",
    "    s = s.split()[0]  # 20220601\n",
    "    date = datetime.datetime.strptime(s, '%Y%m%d')\n",
    "    weekday = date.weekday()  \n",
    "    return weekday"
   ]
  },
  {
   "cell_type": "code",
   "execution_count": 8,
   "id": "7ad72527",
   "metadata": {},
   "outputs": [],
   "source": [
    "train_df['Weekday'] = train_df.apply(lambda x:to_datetime(x['일시']), axis=1)"
   ]
  },
  {
   "cell_type": "code",
   "execution_count": 9,
   "id": "6c461ab6",
   "metadata": {},
   "outputs": [],
   "source": [
    "# 전날과의 차이 변수 추가\n",
    "for i in range(1, 101):\n",
    "    df = train_df[train_df['건물번호'] == i]\n",
    "    train_df.loc[df.index, '기온_gap'] = df['기온(C)'] - df.shift(1)['기온(C)']\n",
    "    train_df.loc[df.index, '풍속_gap'] = df['풍속(m/s)'] - df.shift(1)['풍속(m/s)']\n",
    "    train_df.loc[df.index, '습도_gap'] = df['습도(%)'] - df.shift(1)['습도(%)']"
   ]
  },
  {
   "cell_type": "code",
   "execution_count": 10,
   "id": "e3b2253a",
   "metadata": {},
   "outputs": [],
   "source": [
    "train_df['기온_gap'] = train_df['기온_gap'].fillna(0)\n",
    "train_df['풍속_gap'] = train_df['풍속_gap'].fillna(0)\n",
    "train_df['습도_gap'] = train_df['습도_gap'].fillna(0)"
   ]
  },
  {
   "cell_type": "code",
   "execution_count": 11,
   "id": "e231f57b",
   "metadata": {},
   "outputs": [],
   "source": [
    "def train_test_split(df, th):\n",
    "    train = df[df['일시'].str[:8].astype(int) < th].reset_index(drop=True)\n",
    "    test = df[df['일시'].str[:8].astype(int) >= th].reset_index(drop=True)\n",
    "    return train, test"
   ]
  },
  {
   "cell_type": "code",
   "execution_count": 12,
   "id": "a42b7e7b",
   "metadata": {},
   "outputs": [],
   "source": [
    "def preprocess_x(df):\n",
    "    to_remove_columns = ['num_date_time', '일시', '일조(hr)', '일사(MJ/m2)', '전력소비량(kWh)']\n",
    "    df = df.fillna(0)\n",
    "    #시계열 특성을 학습에 반영하기 위해 일시를 월, 일, 시간으로 나눕니다\n",
    "    df['month'] = df['일시'].apply(lambda x : int(x[4:6]))\n",
    "    df['day'] = df['일시'].apply(lambda x : int(x[6:8]))\n",
    "    df['time'] = df['일시'].apply(lambda x : int(x[9:11]))\n",
    "\n",
    "    df['holiday'] = df.apply(lambda x : 1 if x['day']==6 else 0, axis = 1)\n",
    "\n",
    "    df['holiday'][(df['month']==6) & (df['day']==1)] = 1\n",
    "    df['holiday'][(df['month']==6) & (df['day']==6)] = 1\n",
    "    df['holiday'][(df['month']==8) & (df['day']==15)] = 1\n",
    "\n",
    "    df['sin_time'] = np.sin(2*np.pi*df.time/24)\n",
    "    df['cos_time'] = np.cos(2*np.pi*df.time/24)\n",
    "\n",
    "    df = df.merge(building_info.iloc[:, :4])\n",
    "    df['건물유형'] = df['건물유형'].astype('category').cat.codes\n",
    "\n",
    "    # 요금 가중치\n",
    "    df['fare_w'] = 0\n",
    "\n",
    "    # 일반, 산업\n",
    "    for i in [0,1,3,4,5,6,8,9,10,11] :\n",
    "        df['fare_w'][(df['건물유형']==i) & ((df['time'] >= 9) & (df['time'] <10))] = 1.144\n",
    "        df['fare_w'][(df['건물유형']==i) & ((df['time'] >= 12) & (df['time'] <13))] = 1.144\n",
    "        df['fare_w'][(df['건물유형']==i) & ((df['time'] >= 17) & (df['time'] <22))] = 1.144\n",
    "        df['fare_w'][(df['건물유형']==i) & ((df['time'] >= 10) & (df['time'] <12))] = 1.965\n",
    "        df['fare_w'][(df['건물유형']==i) & ((df['time'] >= 13) & (df['time'] <17))] = 1.965\n",
    "        df['fare_w'][(df['건물유형']==i) & ((df['time'] >= 8) & (df['time'] <9))] = 0.615\n",
    "        df['fare_w'][(df['건물유형']==i) & ((df['time'] >= 22) | (df['time'] <8))] = 0.451\n",
    "    # 교육\n",
    "    df['fare_w'][(df['건물유형']==2) & ((df['time'] >= 9) & (df['time'] <10))] = 0.944\n",
    "    df['fare_w'][(df['건물유형']==2) & ((df['time'] >= 12) & (df['time'] <13))] = 0.944\n",
    "    df['fare_w'][(df['건물유형']==2) & ((df['time'] >= 17) & (df['time'] <22))] = 0.944\n",
    "    df['fare_w'][(df['건물유형']==2) & ((df['time'] >= 10) & (df['time'] <12))] = 1.603\n",
    "    df['fare_w'][(df['건물유형']==2) & ((df['time'] >= 13) & (df['time'] <17))] = 1.603\n",
    "    df['fare_w'][(df['건물유형']==2) & ((df['time'] >= 8) & (df['time'] <9))] = 0.497\n",
    "    df['fare_w'][(df['건물유형']==2) & ((df['time'] >= 22) | (df['time'] <8))] = 0.451\n",
    "\n",
    "    # 토요일\n",
    "    df['fare_w'][(df['Weekday']==5) & ((df['time'] >= 10) & (df['time'] <12))] = 1.144\n",
    "    df['fare_w'][(df['Weekday']==5) & ((df['time'] >= 13) & (df['time'] <17))] = 1.144\n",
    "    df['fare_w'][(df['Weekday']==5) & ((df['time'] >= 10) & (df['time'] <12)) & (df['건물유형']==2)] = 0.944\n",
    "    # 공휴일\n",
    "    df['fare_w'][(df['holiday']==1) & ((df['time'] >= 10) & (df['time'] <12))] = 0.615\n",
    "    df['fare_w'][(df['holiday']==1) & ((df['time'] >= 13) & (df['time'] <17))] = 0.615\n",
    "    df['fare_w'][(df['holiday']==1) & ((df['time'] >= 10) & (df['time'] <12)) & (df['건물유형']==2)] = 0.497\n",
    "\n",
    "    # 주택\n",
    "    df['fare_w'][(df['건물유형']==7)] = 0.782\n",
    "\n",
    "    for c in to_remove_columns:\n",
    "        if c in df.columns:\n",
    "            df = df.drop(columns=[c])\n",
    "    return df"
   ]
  },
  {
   "cell_type": "code",
   "execution_count": 13,
   "id": "c29ee7c2",
   "metadata": {},
   "outputs": [
    {
     "name": "stderr",
     "output_type": "stream",
     "text": [
      "C:\\Users\\Public\\Documents\\ESTsoft\\CreatorTemp\\ipykernel_42908\\181566798.py:11: SettingWithCopyWarning: \n",
      "A value is trying to be set on a copy of a slice from a DataFrame\n",
      "\n",
      "See the caveats in the documentation: https://pandas.pydata.org/pandas-docs/stable/user_guide/indexing.html#returning-a-view-versus-a-copy\n",
      "  df['holiday'][(df['month']==6) & (df['day']==1)] = 1\n",
      "C:\\Users\\Public\\Documents\\ESTsoft\\CreatorTemp\\ipykernel_42908\\181566798.py:12: SettingWithCopyWarning: \n",
      "A value is trying to be set on a copy of a slice from a DataFrame\n",
      "\n",
      "See the caveats in the documentation: https://pandas.pydata.org/pandas-docs/stable/user_guide/indexing.html#returning-a-view-versus-a-copy\n",
      "  df['holiday'][(df['month']==6) & (df['day']==6)] = 1\n",
      "C:\\Users\\Public\\Documents\\ESTsoft\\CreatorTemp\\ipykernel_42908\\181566798.py:13: SettingWithCopyWarning: \n",
      "A value is trying to be set on a copy of a slice from a DataFrame\n",
      "\n",
      "See the caveats in the documentation: https://pandas.pydata.org/pandas-docs/stable/user_guide/indexing.html#returning-a-view-versus-a-copy\n",
      "  df['holiday'][(df['month']==8) & (df['day']==15)] = 1\n",
      "C:\\Users\\Public\\Documents\\ESTsoft\\CreatorTemp\\ipykernel_42908\\181566798.py:26: SettingWithCopyWarning: \n",
      "A value is trying to be set on a copy of a slice from a DataFrame\n",
      "\n",
      "See the caveats in the documentation: https://pandas.pydata.org/pandas-docs/stable/user_guide/indexing.html#returning-a-view-versus-a-copy\n",
      "  df['fare_w'][(df['건물유형']==i) & ((df['time'] >= 9) & (df['time'] <10))] = 1.144\n",
      "C:\\Users\\Public\\Documents\\ESTsoft\\CreatorTemp\\ipykernel_42908\\181566798.py:26: FutureWarning: Setting an item of incompatible dtype is deprecated and will raise in a future error of pandas. Value '1.144' has dtype incompatible with int64, please explicitly cast to a compatible dtype first.\n",
      "  df['fare_w'][(df['건물유형']==i) & ((df['time'] >= 9) & (df['time'] <10))] = 1.144\n",
      "C:\\Users\\Public\\Documents\\ESTsoft\\CreatorTemp\\ipykernel_42908\\181566798.py:11: SettingWithCopyWarning: \n",
      "A value is trying to be set on a copy of a slice from a DataFrame\n",
      "\n",
      "See the caveats in the documentation: https://pandas.pydata.org/pandas-docs/stable/user_guide/indexing.html#returning-a-view-versus-a-copy\n",
      "  df['holiday'][(df['month']==6) & (df['day']==1)] = 1\n",
      "C:\\Users\\Public\\Documents\\ESTsoft\\CreatorTemp\\ipykernel_42908\\181566798.py:12: SettingWithCopyWarning: \n",
      "A value is trying to be set on a copy of a slice from a DataFrame\n",
      "\n",
      "See the caveats in the documentation: https://pandas.pydata.org/pandas-docs/stable/user_guide/indexing.html#returning-a-view-versus-a-copy\n",
      "  df['holiday'][(df['month']==6) & (df['day']==6)] = 1\n",
      "C:\\Users\\Public\\Documents\\ESTsoft\\CreatorTemp\\ipykernel_42908\\181566798.py:13: SettingWithCopyWarning: \n",
      "A value is trying to be set on a copy of a slice from a DataFrame\n",
      "\n",
      "See the caveats in the documentation: https://pandas.pydata.org/pandas-docs/stable/user_guide/indexing.html#returning-a-view-versus-a-copy\n",
      "  df['holiday'][(df['month']==8) & (df['day']==15)] = 1\n",
      "C:\\Users\\Public\\Documents\\ESTsoft\\CreatorTemp\\ipykernel_42908\\181566798.py:26: SettingWithCopyWarning: \n",
      "A value is trying to be set on a copy of a slice from a DataFrame\n",
      "\n",
      "See the caveats in the documentation: https://pandas.pydata.org/pandas-docs/stable/user_guide/indexing.html#returning-a-view-versus-a-copy\n",
      "  df['fare_w'][(df['건물유형']==i) & ((df['time'] >= 9) & (df['time'] <10))] = 1.144\n",
      "C:\\Users\\Public\\Documents\\ESTsoft\\CreatorTemp\\ipykernel_42908\\181566798.py:26: FutureWarning: Setting an item of incompatible dtype is deprecated and will raise in a future error of pandas. Value '1.144' has dtype incompatible with int64, please explicitly cast to a compatible dtype first.\n",
      "  df['fare_w'][(df['건물유형']==i) & ((df['time'] >= 9) & (df['time'] <10))] = 1.144\n"
     ]
    }
   ],
   "source": [
    "date_th = 20220818\n",
    "train, val = train_test_split(train_df, date_th)\n",
    "train_x = preprocess_x(train)\n",
    "train_y = train['전력소비량(kWh)']\n",
    "\n",
    "valid_x = preprocess_x(val)\n",
    "valid_y = val['전력소비량(kWh)']"
   ]
  },
  {
   "cell_type": "code",
   "execution_count": 14,
   "id": "9f1eb7f3",
   "metadata": {},
   "outputs": [],
   "source": [
    "def validate_multi(valid_x, valid_y, models):\n",
    "    \"\"\"\n",
    "    Args:\n",
    "        models: dict, {1: model1, 2: model2, ..., 100: model100}\n",
    "    \"\"\"\n",
    "    preds = []\n",
    "    \n",
    "    for i in range(1, 101):\n",
    "        _x = valid_x[valid_x['건물번호'] == i]\n",
    "        _x = _x.drop(columns=['건물번호', '건물유형', '연면적(m2)', '냉방면적(m2)'])\n",
    "        pred = models[i].predict(_x).tolist()\n",
    "        preds.extend(pred)\n",
    "        \n",
    "    preds = np.array(preds)\n",
    "    smape_score, mae_score = SMAPE(valid_y, preds), mae(valid_y, preds)\n",
    "    \n",
    "    return smape_score, mae_score"
   ]
  },
  {
   "cell_type": "code",
   "execution_count": 15,
   "id": "2548daf2",
   "metadata": {},
   "outputs": [],
   "source": [
    "def train_multiple_models(train_x, train_y, n_estimators=100, lr=0.05, md=-1):\n",
    "    models = {}\n",
    "    for i in tqdm(range(1, 101)):\n",
    "        _x = train_x[train_x['건물번호'] == i]\n",
    "        _x = _x.drop(columns=['건물번호', '건물유형', '연면적(m2)', '냉방면적(m2)'])\n",
    "        _y = train_y[_x.index]\n",
    "        model_lgb = lgb.LGBMRegressor(objective='regression', n_estimators=n_estimators, learning_rate=lr, max_depth = md, verbose=-1)\n",
    "        model_lgb.fit(_x, _y)\n",
    "        models[i] = model_lgb\n",
    "    return models"
   ]
  },
  {
   "cell_type": "code",
   "execution_count": 16,
   "id": "d4222ec9",
   "metadata": {},
   "outputs": [],
   "source": [
    "def SMAPE(y, pred):\n",
    "    smape = abs((y - pred))/((abs(y) + abs(pred)) / 2) * 100\n",
    "    smape = np.mean(smape)\n",
    "    return smape\n",
    "\n",
    "def mae(y, pred):\n",
    "    return np.mean(abs(y-pred))\n",
    "\n",
    "def validate(valid_x, valid_y, model):\n",
    "    pred = model.predict(valid_x)\n",
    "    smape_score, mae_score = SMAPE(valid_y, pred), mae(valid_y, pred)\n",
    "    return smape_score, mae_score"
   ]
  },
  {
   "cell_type": "code",
   "execution_count": 24,
   "id": "db7cabb2",
   "metadata": {},
   "outputs": [
    {
     "name": "stderr",
     "output_type": "stream",
     "text": [
      "100%|████████████████████████████████████████████████████████████████████████████████| 100/100 [00:21<00:00,  4.75it/s]\n"
     ]
    }
   ],
   "source": [
    "models = train_multiple_models(train_x, train_y, 100, 0.04, 10)"
   ]
  },
  {
   "cell_type": "code",
   "execution_count": 25,
   "id": "88e27528",
   "metadata": {},
   "outputs": [
    {
     "name": "stdout",
     "output_type": "stream",
     "text": [
      "SMAPE: 5.379266940723972\n",
      "MAE: 105.87189425466114\n"
     ]
    }
   ],
   "source": [
    "smape_score, mae_score = validate_multi(valid_x, valid_y, models)\n",
    "print(f'SMAPE: {smape_score}\\nMAE: {mae_score}')"
   ]
  },
  {
   "cell_type": "code",
   "execution_count": null,
   "id": "a20a1495",
   "metadata": {},
   "outputs": [],
   "source": []
  },
  {
   "cell_type": "code",
   "execution_count": null,
   "id": "7e661ba0",
   "metadata": {},
   "outputs": [],
   "source": [
    "test_df['THI'] = 9/5*test_df['기온(C)'] - 0.55*(1-test_df['습도(%)']/100)*(9/5*test_df['습도(%)']-26)+32\n",
    "\n",
    "cdhs = np.array([])\n",
    "for num in range(1,101,1):\n",
    "    temp = test_df[test_df['건물번호'] == num]\n",
    "    cdh = CDH(temp['기온(C)'].values)\n",
    "    cdhs = np.concatenate([cdhs, cdh])\n",
    "test_df['CDH'] = cdhs"
   ]
  },
  {
   "cell_type": "code",
   "execution_count": null,
   "id": "3de343d7",
   "metadata": {},
   "outputs": [],
   "source": [
    "test_df['Weekday'] = test_df.apply(lambda x:to_datetime(x['일시']), axis=1)"
   ]
  },
  {
   "cell_type": "code",
   "execution_count": null,
   "id": "35363c95",
   "metadata": {},
   "outputs": [],
   "source": [
    "for i in range(1, 101):\n",
    "    df = test_df[test_df['건물번호'] == i]\n",
    "    test_df.loc[df.index, '기온_gap'] = df['기온(C)'] - df.shift(1)['기온(C)']\n",
    "    test_df.loc[df.index, '풍속_gap'] = df['풍속(m/s)'] - df.shift(1)['풍속(m/s)']\n",
    "    test_df.loc[df.index, '습도_gap'] = df['습도(%)'] - df.shift(1)['습도(%)']"
   ]
  },
  {
   "cell_type": "code",
   "execution_count": null,
   "id": "4920c397",
   "metadata": {},
   "outputs": [],
   "source": [
    "test_df['기온_gap'] = test_df['기온_gap'].fillna(0)\n",
    "test_df['풍속_gap'] = test_df['풍속_gap'].fillna(0)\n",
    "test_df['습도_gap'] = test_df['습도_gap'].fillna(0)"
   ]
  },
  {
   "cell_type": "code",
   "execution_count": null,
   "id": "cb02236c",
   "metadata": {},
   "outputs": [],
   "source": [
    "test_df = preprocess_x(test_df)"
   ]
  },
  {
   "cell_type": "code",
   "execution_count": null,
   "id": "f0c02006",
   "metadata": {},
   "outputs": [],
   "source": [
    "preds_real = []\n",
    "for i in tqdm(range(1, 101)):\n",
    "    _x = test_df[test_df['건물번호'] == i]\n",
    "    _x = _x.drop(columns=['건물번호', '건물유형', '연면적(m2)', '냉방면적(m2)'])\n",
    "    pred = models[i].predict(_x).tolist()\n",
    "    preds_real.extend(pred)"
   ]
  },
  {
   "cell_type": "code",
   "execution_count": null,
   "id": "8733f40f",
   "metadata": {},
   "outputs": [],
   "source": [
    "submission = pd.read_csv('./sample_submission.csv')\n",
    "submission['answer'] = preds_real\n",
    "submission.to_csv('lgbm.csv', index = False)"
   ]
  }
 ],
 "metadata": {
  "kernelspec": {
   "display_name": "Python 3 (ipykernel)",
   "language": "python",
   "name": "python3"
  },
  "language_info": {
   "codemirror_mode": {
    "name": "ipython",
    "version": 3
   },
   "file_extension": ".py",
   "mimetype": "text/x-python",
   "name": "python",
   "nbconvert_exporter": "python",
   "pygments_lexer": "ipython3",
   "version": "3.11.4"
  }
 },
 "nbformat": 4,
 "nbformat_minor": 5
}
